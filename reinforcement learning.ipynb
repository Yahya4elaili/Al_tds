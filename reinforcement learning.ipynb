{
  "nbformat": 4,
  "nbformat_minor": 0,
  "metadata": {
    "colab": {
      "provenance": [],
      "collapsed_sections": [
        "i38qZPSHmDVs"
      ]
    },
    "kernelspec": {
      "name": "python3",
      "display_name": "Python 3"
    },
    "language_info": {
      "name": "python"
    }
  },
  "cells": [
    {
      "cell_type": "markdown",
      "source": [
        "\n",
        "\n",
        "> Import libraries to use\n",
        "\n"
      ],
      "metadata": {
        "id": "JIuzZH7gj7Yu"
      }
    },
    {
      "cell_type": "code",
      "source": [
        "import numpy as np"
      ],
      "metadata": {
        "id": "1n-L9pacjmBA"
      },
      "execution_count": 16,
      "outputs": []
    },
    {
      "cell_type": "markdown",
      "source": [
        ">  # Introduction to numpy (Skip if you already are familiar)"
      ],
      "metadata": {
        "id": "i38qZPSHmDVs"
      }
    },
    {
      "cell_type": "markdown",
      "source": [
        ">> Creating a 1D array"
      ],
      "metadata": {
        "id": "-wFkLk1kmeIn"
      }
    },
    {
      "cell_type": "code",
      "source": [
        "a = np.array([1,2,3,4])\n",
        "print(a)"
      ],
      "metadata": {
        "colab": {
          "base_uri": "https://localhost:8080/"
        },
        "id": "E-o1XD0Qmgxk",
        "outputId": "db3e854d-c3f8-41b7-91a3-48d6d964db6c"
      },
      "execution_count": 26,
      "outputs": [
        {
          "output_type": "stream",
          "name": "stdout",
          "text": [
            "[1 2 3 4]\n"
          ]
        }
      ]
    },
    {
      "cell_type": "markdown",
      "source": [
        ">> Creating a 2D array\n"
      ],
      "metadata": {
        "id": "DWh4Q90Gmh32"
      }
    },
    {
      "cell_type": "code",
      "source": [
        "a = np.array([[1,2],[3,4]])\n",
        "print(a)"
      ],
      "metadata": {
        "colab": {
          "base_uri": "https://localhost:8080/"
        },
        "id": "mOS0jF1AmjTX",
        "outputId": "d06aef27-9a22-4857-9c8d-c0c4df2606d3"
      },
      "execution_count": 27,
      "outputs": [
        {
          "output_type": "stream",
          "name": "stdout",
          "text": [
            "[[1 2]\n",
            " [3 4]]\n"
          ]
        }
      ]
    },
    {
      "cell_type": "markdown",
      "source": [
        ">> Creating an array full of zeros\n"
      ],
      "metadata": {
        "id": "4Z_7BfvcmoPA"
      }
    },
    {
      "cell_type": "code",
      "source": [
        "a = np.zeros(shape=(10))\n",
        "print(a)\n",
        "a = np.zeros(shape=(5,2))\n",
        "print(a)"
      ],
      "metadata": {
        "colab": {
          "base_uri": "https://localhost:8080/"
        },
        "id": "KdGvmJ7gmFrF",
        "outputId": "f1801c79-9a59-40c6-dc11-750497ba0924"
      },
      "execution_count": 28,
      "outputs": [
        {
          "output_type": "stream",
          "name": "stdout",
          "text": [
            "[0. 0. 0. 0. 0. 0. 0. 0. 0. 0.]\n",
            "[[0. 0.]\n",
            " [0. 0.]\n",
            " [0. 0.]\n",
            " [0. 0.]\n",
            " [0. 0.]]\n"
          ]
        }
      ]
    },
    {
      "cell_type": "markdown",
      "source": [
        ">> Infinity in numpy"
      ],
      "metadata": {
        "id": "kV2byWmWmr9g"
      }
    },
    {
      "cell_type": "code",
      "source": [
        "print(np.inf)"
      ],
      "metadata": {
        "colab": {
          "base_uri": "https://localhost:8080/"
        },
        "id": "9SMPoECVmygc",
        "outputId": "d555fcab-78be-4b64-fc75-944d2dc92c74"
      },
      "execution_count": 29,
      "outputs": [
        {
          "output_type": "stream",
          "name": "stdout",
          "text": [
            "inf\n"
          ]
        }
      ]
    },
    {
      "cell_type": "markdown",
      "source": [
        ">> Max and Argmax"
      ],
      "metadata": {
        "id": "FCi8vs49mz44"
      }
    },
    {
      "cell_type": "code",
      "source": [
        "a = np.array([2,1,4,3])\n",
        "print(np.max(a))\n",
        "print(np.argmax(a))"
      ],
      "metadata": {
        "colab": {
          "base_uri": "https://localhost:8080/"
        },
        "id": "Ailb-V76nSqc",
        "outputId": "9c3b44cb-d4ed-49a0-e757-416caa770c5c"
      },
      "execution_count": 30,
      "outputs": [
        {
          "output_type": "stream",
          "name": "stdout",
          "text": [
            "4\n",
            "2\n"
          ]
        }
      ]
    },
    {
      "cell_type": "markdown",
      "source": [
        ">> From list to Numpy"
      ],
      "metadata": {
        "id": "6XpkQzTfnXMU"
      }
    },
    {
      "cell_type": "code",
      "source": [
        "l = [1,2,3,4]\n",
        "print(l)\n",
        "print(np.asarray(l))"
      ],
      "metadata": {
        "colab": {
          "base_uri": "https://localhost:8080/"
        },
        "id": "3wdFdBaOncQI",
        "outputId": "1b830834-2f48-448d-a257-53bf01c39384"
      },
      "execution_count": 31,
      "outputs": [
        {
          "output_type": "stream",
          "name": "stdout",
          "text": [
            "[1, 2, 3, 4]\n",
            "[1 2 3 4]\n"
          ]
        }
      ]
    },
    {
      "cell_type": "markdown",
      "source": [
        ">> Random in numpy"
      ],
      "metadata": {
        "id": "PgNawY2LngKt"
      }
    },
    {
      "cell_type": "code",
      "source": [
        "# Array of Random integers ranging from 1 to 10 (with any size you want)\n",
        "a = np.random.randint(low=1, high=10, size=(5,2))\n",
        "print(a)\n",
        "\n",
        "# Array of random elements of a list with any size you want\n",
        "a = np.random.choice([0,1,2], size=(2,))"
      ],
      "metadata": {
        "colab": {
          "base_uri": "https://localhost:8080/"
        },
        "id": "tyopXlWsnjK1",
        "outputId": "8a5381cf-3fd5-400d-a865-f2895382892a"
      },
      "execution_count": 32,
      "outputs": [
        {
          "output_type": "stream",
          "name": "stdout",
          "text": [
            "[[7 5]\n",
            " [6 7]\n",
            " [4 9]\n",
            " [7 5]\n",
            " [2 8]]\n"
          ]
        }
      ]
    },
    {
      "cell_type": "markdown",
      "source": [
        ">> Shapes in numpy"
      ],
      "metadata": {
        "id": "abjqoNDSoAD6"
      }
    },
    {
      "cell_type": "code",
      "source": [
        "a = np.random.randint(low=1, high=5, size=(4,2))\n",
        "print(a.shape)\n",
        "print(a)\n",
        "\n",
        "# Reshape a to a vector of shape = (8,1)\n",
        "a = a.reshape((8,1))\n",
        "print(a.shape)\n",
        "print(a)"
      ],
      "metadata": {
        "colab": {
          "base_uri": "https://localhost:8080/"
        },
        "id": "vN2gUoZEoCbE",
        "outputId": "abbc0d42-d3c8-4cfa-b3d6-6082b855e3d6"
      },
      "execution_count": 33,
      "outputs": [
        {
          "output_type": "stream",
          "name": "stdout",
          "text": [
            "(4, 2)\n",
            "[[2 1]\n",
            " [1 3]\n",
            " [1 4]\n",
            " [3 4]]\n",
            "(8, 1)\n",
            "[[2]\n",
            " [1]\n",
            " [1]\n",
            " [3]\n",
            " [1]\n",
            " [4]\n",
            " [3]\n",
            " [4]]\n"
          ]
        }
      ]
    },
    {
      "cell_type": "markdown",
      "source": [
        "# Pre-defined utilities"
      ],
      "metadata": {
        "id": "ekYrPhAGkAfM"
      }
    },
    {
      "cell_type": "code",
      "source": [
        "\n",
        "int_to_char = {\n",
        "    0 : 'u',\n",
        "    1 : 'r',\n",
        "    2 : 'd',\n",
        "    3 : 'l'\n",
        "}\n",
        "\n",
        "policy_one_step_look_ahead = {\n",
        "    0 : [-1,0],\n",
        "    1 : [0,1],\n",
        "    2 : [1,0],\n",
        "    3 : [0,-1]\n",
        "}\n",
        "\n",
        "def policy_int_to_char(pi,n):\n",
        "\n",
        "    pi_char = ['']\n",
        "\n",
        "    for i in range(n):\n",
        "        for j in range(n):\n",
        "\n",
        "            if i == 0 and j == 0 or i == n-1 and j == n-1:\n",
        "\n",
        "                continue\n",
        "\n",
        "            pi_char.append(int_to_char[pi[i,j]])\n",
        "\n",
        "    pi_char.append('')\n",
        "\n",
        "    return np.asarray(pi_char).reshape(n,n)"
      ],
      "metadata": {
        "id": "3kXEezQ_jnoP"
      },
      "execution_count": 10,
      "outputs": []
    },
    {
      "cell_type": "markdown",
      "source": [
        "# 1- Policy evaluation"
      ],
      "metadata": {
        "id": "3zlRobQekELk"
      }
    },
    {
      "cell_type": "code",
      "source": [
        "def policy_evaluation(n, v, pi, threshold, Gamma):\n",
        "  #to avoid infinite loop\n",
        "    max_iterations=1000\n",
        "    for iteration in range(max_iterations):\n",
        "        delta = 0\n",
        "        for i in range(n):\n",
        "            for j in range(n):\n",
        "                v_old = v[i, j]\n",
        "                action = pi[i, j]\n",
        "                reward, new_state = -1, (i, j)  # Assuming each step has a negative reward\n",
        "                if action == 0 and i > 0:\n",
        "                    new_state = (i - 1, j)\n",
        "                elif action == 1 and j < n - 1:\n",
        "                    new_state = (i, j + 1)\n",
        "                elif action == 2 and i < n - 1:\n",
        "                    new_state = (i + 1, j)\n",
        "                elif action == 3 and j > 0:\n",
        "                    new_state = (i, j - 1)\n",
        "                v[i, j] = reward + Gamma * v[new_state]\n",
        "                delta = max(delta, abs(v_old - v[i, j]))\n",
        "        if delta < threshold:\n",
        "            break\n",
        "    return v\n",
        "\n"
      ],
      "metadata": {
        "id": "N7_2lpTAkHAJ"
      },
      "execution_count": 47,
      "outputs": []
    },
    {
      "cell_type": "markdown",
      "source": [
        "# 2- Policy improvement"
      ],
      "metadata": {
        "id": "id0Re9bnkWRP"
      }
    },
    {
      "cell_type": "code",
      "source": [
        "def policy_improvement(n, pi, v, Gamma):\n",
        "    policy_stable = True\n",
        "    for i in range(n):\n",
        "        for j in range(n):\n",
        "            old_action = pi[i, j]\n",
        "            # Find the best action by comparing the value function\n",
        "            best_action, best_value = None, float('-inf')\n",
        "            for action in range(4):  # Explore actions\n",
        "                reward, new_state = -1, (i, j)\n",
        "                if action == 0 and i > 0:\n",
        "                    new_state = (i - 1, j)\n",
        "                elif action == 1 and j < n - 1:\n",
        "                    new_state = (i, j + 1)\n",
        "                elif action == 2 and i < n - 1:\n",
        "                    new_state = (i + 1, j)\n",
        "                elif action == 3 and j > 0:\n",
        "                    new_state = (i, j - 1)\n",
        "                value = reward + Gamma * v[new_state]\n",
        "                if value > best_value:\n",
        "                    best_value = value\n",
        "                    best_action = action\n",
        "            pi[i, j] = best_action\n",
        "            if old_action != best_action:\n",
        "                policy_stable = False\n",
        "    return pi, policy_stable"
      ],
      "metadata": {
        "id": "eC8zswV7kZPF"
      },
      "execution_count": 12,
      "outputs": []
    },
    {
      "cell_type": "markdown",
      "source": [
        "# 3- Policy Initialization"
      ],
      "metadata": {
        "id": "1rJLFmZYk0I1"
      }
    },
    {
      "cell_type": "code",
      "source": [
        "def policy_initialization(n):\n",
        "    # Initialize a policy randomly\n",
        "    # Actions: 0 = up, 1 = right, 2 = down, 3 = left\n",
        "    return np.random.choice(4, (n, n))"
      ],
      "metadata": {
        "id": "xpuOHJeIk2K_"
      },
      "execution_count": 45,
      "outputs": []
    },
    {
      "cell_type": "markdown",
      "source": [
        "# 4- Policy Iteration algorithm"
      ],
      "metadata": {
        "id": "rfeVN5fQlBt8"
      }
    },
    {
      "cell_type": "code",
      "source": [
        "def policy_iteration(n, Gamma, threshhold):\n",
        "    pi = policy_initialization(n)\n",
        "    v = np.zeros((n, n))\n",
        "    while True:\n",
        "        v = policy_evaluation(n, v, pi, threshhold, Gamma)\n",
        "        pi, pi_stable = policy_improvement(n, pi, v, Gamma)\n",
        "        if pi_stable:\n",
        "            break\n",
        "    return pi, v"
      ],
      "metadata": {
        "id": "g7hnjz0PlFD4"
      },
      "execution_count": 42,
      "outputs": []
    },
    {
      "cell_type": "markdown",
      "source": [
        "# Main Code to Test"
      ],
      "metadata": {
        "id": "8FvleqV5onq9"
      }
    },
    {
      "cell_type": "code",
      "execution_count": 48,
      "metadata": {
        "id": "hntGpzW-jZk3",
        "colab": {
          "base_uri": "https://localhost:8080/"
        },
        "outputId": "4fd49791-c60a-474f-bba3-dd844dac2515"
      },
      "outputs": [
        {
          "output_type": "stream",
          "name": "stdout",
          "text": [
            "\n",
            "Gamma =  0.8\n",
            "\n",
            "[['' 'u' 'u' 'u']\n",
            " ['u' 'u' 'u' 'u']\n",
            " ['l' 'l' 'u' 'u']\n",
            " ['u' 'u' 'u' '']]\n",
            "\n",
            "\n",
            "[[-4.99995433 -4.99995433 -4.99995433 -4.99995433]\n",
            " [-4.99996346 -4.99996346 -4.99996346 -4.99996346]\n",
            " [-4.99995433 -4.99996346 -4.99997077 -4.99997077]\n",
            " [-4.99996346 -4.99997077 -4.99997662 -4.99997662]]\n",
            "\n",
            "Gamma =  0.9\n",
            "\n",
            "[['' 'u' 'u' 'u']\n",
            " ['u' 'u' 'u' 'u']\n",
            " ['u' 'u' 'u' 'u']\n",
            " ['u' 'u' 'u' '']]\n",
            "\n",
            "\n",
            "[[-9.99938296 -9.99938296 -9.99938296 -9.99938296]\n",
            " [-9.99944467 -9.99944467 -9.99944467 -9.99944467]\n",
            " [-9.9995002  -9.9995002  -9.9995002  -9.9995002 ]\n",
            " [-9.99955018 -9.99955018 -9.99955018 -9.99955018]]\n",
            "\n",
            "Gamma =  1\n",
            "\n",
            "[['' 'u' 'u' 'u']\n",
            " ['u' 'u' 'u' 'u']\n",
            " ['r' 'r' 'r' 'r']\n",
            " ['u' 'u' 'u' '']]\n",
            "\n",
            "\n",
            "[[-6000. -6000. -6000. -6000.]\n",
            " [-6001. -6001. -6001. -6001.]\n",
            " [-6000. -6000. -6000. -6000.]\n",
            " [-6001. -6001. -6001. -6001.]]\n"
          ]
        }
      ],
      "source": [
        "n = 4\n",
        "\n",
        "Gamma = [0.8,0.9,1]\n",
        "\n",
        "threshhold = 1e-4\n",
        "\n",
        "for _gamma in Gamma:\n",
        "\n",
        "    pi , v = policy_iteration(n=n,Gamma=_gamma,threshhold=threshhold)\n",
        "\n",
        "    pi_char = policy_int_to_char(n=n,pi=pi)\n",
        "\n",
        "    print()\n",
        "    print(\"Gamma = \",_gamma)\n",
        "\n",
        "    print()\n",
        "\n",
        "    print(pi_char)\n",
        "\n",
        "    print()\n",
        "    print()\n",
        "\n",
        "    print(v)\n"
      ]
    }
  ]
}